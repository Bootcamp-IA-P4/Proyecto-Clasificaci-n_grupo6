{
  "nbformat": 4,
  "nbformat_minor": 0,
  "metadata": {
    "colab": {
      "provenance": []
    },
    "kernelspec": {
      "name": "python3",
      "display_name": "Python 3"
    },
    "language_info": {
      "name": "python"
    }
  },
  "cells": [
    {
      "cell_type": "code",
      "execution_count": 1,
      "metadata": {
        "id": "OAOZM0T625W1"
      },
      "outputs": [],
      "source": [
        "import pandas as pd\n",
        "from sklearn.model_selection import train_test_split\n",
        "from sklearn.preprocessing import StandardScaler, OneHotEncoder\n",
        "from sklearn.compose import ColumnTransformer\n",
        "from sklearn.pipeline import Pipeline\n",
        "from sklearn.metrics import f1_score\n",
        "from imblearn.over_sampling import SMOTENC\n",
        "import joblib\n",
        "import tensorflow as tf\n",
        "from tensorflow.keras import layers, models"
      ]
    },
    {
      "cell_type": "code",
      "source": [
        "# 1. Load data\n",
        "df = pd.read_csv('online_shoppers_clean.csv')\n",
        "\n",
        "# 2. Identify categorical/numerical columns\n",
        "categorical_cols = ['Month', 'VisitorType', 'Weekend']\n",
        "numerical_cols = [col for col in df.columns if col not in categorical_cols + ['Revenue']]\n",
        "\n",
        "# 3. Split data\n",
        "X = df.drop('Revenue', axis=1)\n",
        "y = df['Revenue'].astype(int)\n",
        "X_train, X_test, y_train, y_test = train_test_split(\n",
        "    X, y, stratify=y, test_size=0.3, random_state=42\n",
        ")\n",
        "\n",
        "# 4. Preprocessing pipeline (no encoding for SMOTENC)\n",
        "preprocessor = ColumnTransformer([\n",
        "    ('cat', OneHotEncoder(handle_unknown='ignore'), categorical_cols),\n",
        "    ('num', StandardScaler(), numerical_cols)\n",
        "])\n",
        "\n",
        "# 5. Apply SMOTENC (specify categorical indices after preprocessing)\n",
        "# After OneHotEncoder, categorical features start at index 0\n",
        "smote_nc = SMOTENC(\n",
        "    categorical_features=[0, 1, 2],  # Indices of OneHot-encoded categorical columns\n",
        "    random_state=42\n",
        ")\n",
        "\n",
        "# 6. Preprocess training data\n",
        "X_train_preprocessed = preprocessor.fit_transform(X_train)\n",
        "X_train_res, y_train_res = smote_nc.fit_resample(X_train_preprocessed, y_train)"
      ],
      "metadata": {
        "id": "XHRiEvzv7xLm"
      },
      "execution_count": 2,
      "outputs": []
    },
    {
      "cell_type": "code",
      "source": [
        "# 7. Build and train Keras model\n",
        "input_dim = X_train_res.shape[1]\n",
        "model = models.Sequential([\n",
        "    layers.Dense(64, activation='relu', input_shape=(input_dim,)),\n",
        "    layers.Dropout(0.3),\n",
        "    layers.Dense(32, activation='relu'),\n",
        "    layers.Dropout(0.3),\n",
        "    layers.Dense(1, activation='sigmoid')\n",
        "])\n",
        "model.compile(optimizer='adam', loss='binary_crossentropy', metrics=['accuracy'])"
      ],
      "metadata": {
        "colab": {
          "base_uri": "https://localhost:8080/"
        },
        "id": "pvY0Hwnu8AjO",
        "outputId": "4dfb0cd0-ed6d-4600-8274-caf17f9f370c"
      },
      "execution_count": 3,
      "outputs": [
        {
          "output_type": "stream",
          "name": "stderr",
          "text": [
            "/usr/local/lib/python3.11/dist-packages/keras/src/layers/core/dense.py:87: UserWarning: Do not pass an `input_shape`/`input_dim` argument to a layer. When using Sequential models, prefer using an `Input(shape)` object as the first layer in the model instead.\n",
            "  super().__init__(activity_regularizer=activity_regularizer, **kwargs)\n"
          ]
        }
      ]
    },
    {
      "cell_type": "code",
      "source": [
        "model.fit(X_train_res, y_train_res, epochs=20, batch_size=64, validation_split=0.1, verbose=1)"
      ],
      "metadata": {
        "colab": {
          "base_uri": "https://localhost:8080/"
        },
        "id": "L-oeoAMv8DME",
        "outputId": "64672dbc-7c45-413e-9eeb-6d6c36088706"
      },
      "execution_count": 4,
      "outputs": [
        {
          "output_type": "stream",
          "name": "stdout",
          "text": [
            "Epoch 1/20\n",
            "\u001b[1m203/203\u001b[0m \u001b[32m━━━━━━━━━━━━━━━━━━━━\u001b[0m\u001b[37m\u001b[0m \u001b[1m2s\u001b[0m 3ms/step - accuracy: 0.6477 - loss: 0.6077 - val_accuracy: 0.7843 - val_loss: 0.4492\n",
            "Epoch 2/20\n",
            "\u001b[1m203/203\u001b[0m \u001b[32m━━━━━━━━━━━━━━━━━━━━\u001b[0m\u001b[37m\u001b[0m \u001b[1m1s\u001b[0m 2ms/step - accuracy: 0.8095 - loss: 0.4183 - val_accuracy: 0.8308 - val_loss: 0.3875\n",
            "Epoch 3/20\n",
            "\u001b[1m203/203\u001b[0m \u001b[32m━━━━━━━━━━━━━━━━━━━━\u001b[0m\u001b[37m\u001b[0m \u001b[1m1s\u001b[0m 2ms/step - accuracy: 0.8305 - loss: 0.3930 - val_accuracy: 0.8564 - val_loss: 0.3576\n",
            "Epoch 4/20\n",
            "\u001b[1m203/203\u001b[0m \u001b[32m━━━━━━━━━━━━━━━━━━━━\u001b[0m\u001b[37m\u001b[0m \u001b[1m1s\u001b[0m 2ms/step - accuracy: 0.8424 - loss: 0.3639 - val_accuracy: 0.8530 - val_loss: 0.3641\n",
            "Epoch 5/20\n",
            "\u001b[1m203/203\u001b[0m \u001b[32m━━━━━━━━━━━━━━━━━━━━\u001b[0m\u001b[37m\u001b[0m \u001b[1m1s\u001b[0m 2ms/step - accuracy: 0.8442 - loss: 0.3602 - val_accuracy: 0.8800 - val_loss: 0.3092\n",
            "Epoch 6/20\n",
            "\u001b[1m203/203\u001b[0m \u001b[32m━━━━━━━━━━━━━━━━━━━━\u001b[0m\u001b[37m\u001b[0m \u001b[1m1s\u001b[0m 3ms/step - accuracy: 0.8547 - loss: 0.3273 - val_accuracy: 0.8460 - val_loss: 0.3649\n",
            "Epoch 7/20\n",
            "\u001b[1m203/203\u001b[0m \u001b[32m━━━━━━━━━━━━━━━━━━━━\u001b[0m\u001b[37m\u001b[0m \u001b[1m1s\u001b[0m 2ms/step - accuracy: 0.8554 - loss: 0.3301 - val_accuracy: 0.8863 - val_loss: 0.2869\n",
            "Epoch 8/20\n",
            "\u001b[1m203/203\u001b[0m \u001b[32m━━━━━━━━━━━━━━━━━━━━\u001b[0m\u001b[37m\u001b[0m \u001b[1m0s\u001b[0m 2ms/step - accuracy: 0.8645 - loss: 0.3176 - val_accuracy: 0.8863 - val_loss: 0.2873\n",
            "Epoch 9/20\n",
            "\u001b[1m203/203\u001b[0m \u001b[32m━━━━━━━━━━━━━━━━━━━━\u001b[0m\u001b[37m\u001b[0m \u001b[1m1s\u001b[0m 2ms/step - accuracy: 0.8695 - loss: 0.3058 - val_accuracy: 0.8856 - val_loss: 0.2814\n",
            "Epoch 10/20\n",
            "\u001b[1m203/203\u001b[0m \u001b[32m━━━━━━━━━━━━━━━━━━━━\u001b[0m\u001b[37m\u001b[0m \u001b[1m0s\u001b[0m 2ms/step - accuracy: 0.8711 - loss: 0.3011 - val_accuracy: 0.9001 - val_loss: 0.2572\n",
            "Epoch 11/20\n",
            "\u001b[1m203/203\u001b[0m \u001b[32m━━━━━━━━━━━━━━━━━━━━\u001b[0m\u001b[37m\u001b[0m \u001b[1m1s\u001b[0m 2ms/step - accuracy: 0.8754 - loss: 0.2943 - val_accuracy: 0.9265 - val_loss: 0.2346\n",
            "Epoch 12/20\n",
            "\u001b[1m203/203\u001b[0m \u001b[32m━━━━━━━━━━━━━━━━━━━━\u001b[0m\u001b[37m\u001b[0m \u001b[1m1s\u001b[0m 2ms/step - accuracy: 0.8743 - loss: 0.2963 - val_accuracy: 0.8779 - val_loss: 0.3082\n",
            "Epoch 13/20\n",
            "\u001b[1m203/203\u001b[0m \u001b[32m━━━━━━━━━━━━━━━━━━━━\u001b[0m\u001b[37m\u001b[0m \u001b[1m0s\u001b[0m 2ms/step - accuracy: 0.8793 - loss: 0.2898 - val_accuracy: 0.9064 - val_loss: 0.2502\n",
            "Epoch 14/20\n",
            "\u001b[1m203/203\u001b[0m \u001b[32m━━━━━━━━━━━━━━━━━━━━\u001b[0m\u001b[37m\u001b[0m \u001b[1m1s\u001b[0m 2ms/step - accuracy: 0.8833 - loss: 0.2793 - val_accuracy: 0.9258 - val_loss: 0.2321\n",
            "Epoch 15/20\n",
            "\u001b[1m203/203\u001b[0m \u001b[32m━━━━━━━━━━━━━━━━━━━━\u001b[0m\u001b[37m\u001b[0m \u001b[1m1s\u001b[0m 2ms/step - accuracy: 0.8838 - loss: 0.2731 - val_accuracy: 0.9202 - val_loss: 0.2387\n",
            "Epoch 16/20\n",
            "\u001b[1m203/203\u001b[0m \u001b[32m━━━━━━━━━━━━━━━━━━━━\u001b[0m\u001b[37m\u001b[0m \u001b[1m1s\u001b[0m 2ms/step - accuracy: 0.8870 - loss: 0.2720 - val_accuracy: 0.9307 - val_loss: 0.2234\n",
            "Epoch 17/20\n",
            "\u001b[1m203/203\u001b[0m \u001b[32m━━━━━━━━━━━━━━━━━━━━\u001b[0m\u001b[37m\u001b[0m \u001b[1m1s\u001b[0m 2ms/step - accuracy: 0.8907 - loss: 0.2713 - val_accuracy: 0.9085 - val_loss: 0.2423\n",
            "Epoch 18/20\n",
            "\u001b[1m203/203\u001b[0m \u001b[32m━━━━━━━━━━━━━━━━━━━━\u001b[0m\u001b[37m\u001b[0m \u001b[1m1s\u001b[0m 2ms/step - accuracy: 0.8862 - loss: 0.2776 - val_accuracy: 0.9196 - val_loss: 0.2497\n",
            "Epoch 19/20\n",
            "\u001b[1m203/203\u001b[0m \u001b[32m━━━━━━━━━━━━━━━━━━━━\u001b[0m\u001b[37m\u001b[0m \u001b[1m1s\u001b[0m 2ms/step - accuracy: 0.8948 - loss: 0.2562 - val_accuracy: 0.9320 - val_loss: 0.2159\n",
            "Epoch 20/20\n",
            "\u001b[1m203/203\u001b[0m \u001b[32m━━━━━━━━━━━━━━━━━━━━\u001b[0m\u001b[37m\u001b[0m \u001b[1m0s\u001b[0m 2ms/step - accuracy: 0.8950 - loss: 0.2555 - val_accuracy: 0.9487 - val_loss: 0.1967\n"
          ]
        },
        {
          "output_type": "execute_result",
          "data": {
            "text/plain": [
              "<keras.src.callbacks.history.History at 0x7e21ed7259d0>"
            ]
          },
          "metadata": {},
          "execution_count": 4
        }
      ]
    },
    {
      "cell_type": "code",
      "source": [
        "# 8. Evaluate\n",
        "X_test_preprocessed = preprocessor.transform(X_test)\n",
        "y_pred = (model.predict(X_test_preprocessed) > 0.55).astype(int)\n",
        "print(\"F1 Score:\", f1_score(y_test, y_pred))"
      ],
      "metadata": {
        "colab": {
          "base_uri": "https://localhost:8080/"
        },
        "id": "khwQ4Yzj87xA",
        "outputId": "03c51662-e540-4833-e467-b69ce8cfeff6"
      },
      "execution_count": 5,
      "outputs": [
        {
          "output_type": "stream",
          "name": "stdout",
          "text": [
            "\u001b[1m115/115\u001b[0m \u001b[32m━━━━━━━━━━━━━━━━━━━━\u001b[0m\u001b[37m\u001b[0m \u001b[1m0s\u001b[0m 2ms/step\n",
            "F1 Score: 0.6477438136826783\n"
          ]
        }
      ]
    },
    {
      "cell_type": "code",
      "source": [
        "# 9. Save pipeline and model\n",
        "joblib.dump(preprocessor, 'preprocessor.joblib')\n",
        "model.save('shopper_model.keras')"
      ],
      "metadata": {
        "id": "7SNdDTS-9VyL"
      },
      "execution_count": 6,
      "outputs": []
    },
    {
      "cell_type": "code",
      "source": [
        "import matplotlib.pyplot as plt\n",
        "from sklearn.metrics import f1_score\n",
        "\n",
        "def check_overfitting(model, X_train, y_train, X_test, y_test):\n",
        "    y_train_pred = (model.predict(X_train) > 0.5).astype(int)\n",
        "    y_test_pred = (model.predict(X_test) > 0.5).astype(int)\n",
        "    f1_train = f1_score(y_train, y_train_pred)\n",
        "    f1_test = f1_score(y_test, y_test_pred)\n",
        "    print(f\"Train F1: {f1_train:.3f}\")\n",
        "    print(f\"Test F1:  {f1_test:.3f}\")\n",
        "    if abs(f1_train - f1_test) > 0.1:\n",
        "        print(\"Warning: Possible overfitting detected (F1 gap > 0.1).\")\n",
        "    else:\n",
        "        print(\"No significant overfitting detected.\")\n",
        "\n"
      ],
      "metadata": {
        "id": "dAZRHSjP9kc3"
      },
      "execution_count": 8,
      "outputs": []
    },
    {
      "cell_type": "code",
      "source": [
        "\n",
        "check_overfitting(model, X_train_res, y_train_res, X_test_preprocessed, y_test)"
      ],
      "metadata": {
        "colab": {
          "base_uri": "https://localhost:8080/"
        },
        "id": "2Mk3NR_k-AZ3",
        "outputId": "5a547943-0df6-425f-f79b-53259caef10d"
      },
      "execution_count": null,
      "outputs": [
        {
          "output_type": "stream",
          "name": "stdout",
          "text": [
            "\u001b[1m456/456\u001b[0m \u001b[32m━━━━━━━━━━━━━━━━━━━━\u001b[0m\u001b[37m\u001b[0m \u001b[1m0s\u001b[0m 1ms/step\n",
            "\u001b[1m116/116\u001b[0m \u001b[32m━━━━━━━━━━━━━━━━━━━━\u001b[0m\u001b[37m\u001b[0m \u001b[1m0s\u001b[0m 1ms/step  \n",
            "Train F1: 0.904\n",
            "Test F1:  0.650\n",
            "Warning: Possible overfitting detected (F1 gap > 0.1).\n"
          ]
        }
      ]
    },
    {
      "cell_type": "code",
      "source": [
        "# Display classification report\n",
        "from sklearn.metrics import classification_report\n",
        "\n",
        "y_pred = (model.predict(X_test_preprocessed) > 0.5).astype(int)\n",
        "print(classification_report(y_test, y_pred, digits=3))"
      ],
      "metadata": {
        "colab": {
          "base_uri": "https://localhost:8080/"
        },
        "id": "3yncEAEOA7pg",
        "outputId": "397bdcbe-12e6-4ebc-9621-8108c909cd7e"
      },
      "execution_count": 9,
      "outputs": [
        {
          "output_type": "stream",
          "name": "stdout",
          "text": [
            "\u001b[1m115/115\u001b[0m \u001b[32m━━━━━━━━━━━━━━━━━━━━\u001b[0m\u001b[37m\u001b[0m \u001b[1m0s\u001b[0m 1ms/step  \n",
            "              precision    recall  f1-score   support\n",
            "\n",
            "           0      0.960     0.873     0.915      3090\n",
            "           1      0.540     0.806     0.647       572\n",
            "\n",
            "    accuracy                          0.862      3662\n",
            "   macro avg      0.750     0.839     0.781      3662\n",
            "weighted avg      0.895     0.862     0.873      3662\n",
            "\n"
          ]
        }
      ]
    }
  ]
}